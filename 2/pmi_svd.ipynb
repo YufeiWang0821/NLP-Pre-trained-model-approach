{
 "cells": [
  {
   "cell_type": "code",
   "execution_count": 1,
   "metadata": {},
   "outputs": [],
   "source": [
    "import numpy as np\n",
    "\n",
    "M=np.array([[0, 2, 1, 1, 1, 1, 1, 2, 1, 3],\n",
    "              [2, 0, 1, 1, 1, 0, 0, 1, 1, 2],\n",
    "              [1, 1, 0, 1, 1, 0, 0, 0, 0, 1],\n",
    "              [1, 1, 1, 0, 1, 0, 0, 0, 0, 1],\n",
    "              [1, 1, 1, 1, 0, 0, 0, 0, 0, 1],\n",
    "              [1, 0, 0, 0, 0, 0, 1, 1, 0, 1],\n",
    "              [1, 0, 0, 0, 0, 1, 0, 1, 0, 1],\n",
    "              [2, 1, 0, 0, 0, 1, 1, 0, 1, 2],\n",
    "              [1, 1, 0, 0, 0, 0, 0, 1, 0, 1],\n",
    "              [3, 2, 1, 1, 1, 1, 1, 2, 1, 0]])\n",
    "om=M"
   ]
  },
  {
   "cell_type": "code",
   "execution_count": 2,
   "metadata": {},
   "outputs": [
    {
     "name": "stdout",
     "output_type": "stream",
     "text": [
      "[13  9  5  5  5  4  4  8  4 13]\n",
      "[13  9  5  5  5  4  4  8  4 13]\n"
     ]
    }
   ],
   "source": [
    "col_totals=M.sum(axis=0)#sum of each col\n",
    "print(col_totals)\n",
    "row_totals=M.sum(axis=1)#sum of each row\n",
    "print(row_totals)\n"
   ]
  },
  {
   "cell_type": "code",
   "execution_count": 3,
   "metadata": {},
   "outputs": [
    {
     "data": {
      "text/plain": [
       "70"
      ]
     },
     "execution_count": 3,
     "metadata": {},
     "output_type": "execute_result"
    }
   ],
   "source": [
    "total=col_totals.sum()#sum of all\n",
    "total"
   ]
  },
  {
   "cell_type": "code",
   "execution_count": 4,
   "metadata": {},
   "outputs": [
    {
     "data": {
      "text/plain": [
       "array([[2.41428571, 1.67142857, 0.92857143, 0.92857143, 0.92857143,\n",
       "        0.74285714, 0.74285714, 1.48571429, 0.74285714, 2.41428571],\n",
       "       [1.67142857, 1.15714286, 0.64285714, 0.64285714, 0.64285714,\n",
       "        0.51428571, 0.51428571, 1.02857143, 0.51428571, 1.67142857],\n",
       "       [0.92857143, 0.64285714, 0.35714286, 0.35714286, 0.35714286,\n",
       "        0.28571429, 0.28571429, 0.57142857, 0.28571429, 0.92857143],\n",
       "       [0.92857143, 0.64285714, 0.35714286, 0.35714286, 0.35714286,\n",
       "        0.28571429, 0.28571429, 0.57142857, 0.28571429, 0.92857143],\n",
       "       [0.92857143, 0.64285714, 0.35714286, 0.35714286, 0.35714286,\n",
       "        0.28571429, 0.28571429, 0.57142857, 0.28571429, 0.92857143],\n",
       "       [0.74285714, 0.51428571, 0.28571429, 0.28571429, 0.28571429,\n",
       "        0.22857143, 0.22857143, 0.45714286, 0.22857143, 0.74285714],\n",
       "       [0.74285714, 0.51428571, 0.28571429, 0.28571429, 0.28571429,\n",
       "        0.22857143, 0.22857143, 0.45714286, 0.22857143, 0.74285714],\n",
       "       [1.48571429, 1.02857143, 0.57142857, 0.57142857, 0.57142857,\n",
       "        0.45714286, 0.45714286, 0.91428571, 0.45714286, 1.48571429],\n",
       "       [0.74285714, 0.51428571, 0.28571429, 0.28571429, 0.28571429,\n",
       "        0.22857143, 0.22857143, 0.45714286, 0.22857143, 0.74285714],\n",
       "       [2.41428571, 1.67142857, 0.92857143, 0.92857143, 0.92857143,\n",
       "        0.74285714, 0.74285714, 1.48571429, 0.74285714, 2.41428571]])"
      ]
     },
     "execution_count": 4,
     "metadata": {},
     "output_type": "execute_result"
    }
   ],
   "source": [
    "expected=np.outer(row_totals,col_totals)/total\n",
    "expected\n"
   ]
  },
  {
   "cell_type": "code",
   "execution_count": 5,
   "metadata": {},
   "outputs": [
    {
     "name": "stdout",
     "output_type": "stream",
     "text": [
      "[[0.         0.17946849 0.07410797 0.07410797 0.07410797 0.29725152\n",
      "  0.29725152 0.29725152 0.29725152 0.21720882]\n",
      " [0.17946849 0.         0.44183275 0.44183275 0.44183275 0.\n",
      "  0.         0.         0.6649763  0.17946849]\n",
      " [0.07410797 0.44183275 0.         1.02961942 1.02961942 0.\n",
      "  0.         0.         0.         0.07410797]\n",
      " [0.07410797 0.44183275 1.02961942 0.         1.02961942 0.\n",
      "  0.         0.         0.         0.07410797]\n",
      " [0.07410797 0.44183275 1.02961942 1.02961942 0.         0.\n",
      "  0.         0.         0.         0.07410797]\n",
      " [0.29725152 0.         0.         0.         0.         0.\n",
      "  1.47590652 0.78275934 0.         0.29725152]\n",
      " [0.29725152 0.         0.         0.         0.         1.47590652\n",
      "  0.         0.78275934 0.         0.29725152]\n",
      " [0.29725152 0.         0.         0.         0.         0.78275934\n",
      "  0.78275934 0.         0.78275934 0.29725152]\n",
      " [0.29725152 0.6649763  0.         0.         0.         0.\n",
      "  0.         0.78275934 0.         0.29725152]\n",
      " [0.21720882 0.17946849 0.07410797 0.07410797 0.07410797 0.29725152\n",
      "  0.29725152 0.29725152 0.29725152 0.        ]]\n"
     ]
    }
   ],
   "source": [
    "M=M/expected\n",
    "with np.errstate(divide='ignore'):# log(0)的警告不显示\n",
    "    M=np.log(M)\n",
    "M[np.isinf(M)]=0.0\n",
    "M[M<0]=0.0\n",
    "print(M)\n"
   ]
  },
  {
   "cell_type": "code",
   "execution_count": 6,
   "metadata": {},
   "outputs": [],
   "source": [
    "U,s,Vh=np.linalg.svd(M)"
   ]
  },
  {
   "cell_type": "code",
   "execution_count": 7,
   "metadata": {},
   "outputs": [
    {
     "data": {
      "text/plain": [
       "array([[-2.34014282e-01,  8.81639953e-02,  5.55111512e-17,\n",
       "         3.85746995e-02, -9.02056208e-17,  5.55111512e-16,\n",
       "        -1.78125825e-01,  8.66267878e-02,  7.07106781e-01,\n",
       "        -6.29875709e-01],\n",
       "       [-2.55873044e-01, -2.27756064e-01,  5.28560691e-17,\n",
       "         3.84244514e-01,  5.17532181e-16,  7.82270575e-16,\n",
       "        -4.06581012e-01, -7.48295619e-01, -2.77555756e-17,\n",
       "         9.87818872e-02],\n",
       "       [-3.06915873e-01, -4.40847155e-01,  5.20136496e-16,\n",
       "        -5.34261276e-02, -3.66575734e-01, -7.29581317e-01,\n",
       "         1.57354764e-01,  1.29139940e-01,  7.63278329e-17,\n",
       "         2.23107273e-02],\n",
       "       [-3.06915873e-01, -4.40847155e-01, -1.57169581e-15,\n",
       "        -5.34261276e-02, -4.48548087e-01,  6.82254557e-01,\n",
       "         1.57354764e-01,  1.29139940e-01, -2.01227923e-16,\n",
       "         2.23107273e-02],\n",
       "       [-3.06915873e-01, -4.40847155e-01,  1.04678682e-15,\n",
       "        -5.34261276e-02,  8.15123822e-01,  4.73267601e-02,\n",
       "         1.57354764e-01,  1.29139940e-01, -1.17961196e-16,\n",
       "         2.23107273e-02],\n",
       "       [-4.11678445e-01,  3.60662454e-01, -7.07106781e-01,\n",
       "        -1.87782026e-01,  1.51782512e-15, -1.22063309e-15,\n",
       "         3.25715471e-01, -2.33465115e-01, -8.32667268e-17,\n",
       "         6.77114112e-02],\n",
       "       [-4.11678445e-01,  3.60662454e-01,  7.07106781e-01,\n",
       "        -1.87782026e-01, -6.26293098e-16,  6.45929368e-16,\n",
       "         3.25715471e-01, -2.33465115e-01, -3.33066907e-16,\n",
       "         6.77114112e-02],\n",
       "       [-3.82224287e-01,  2.93332152e-01,  5.47179521e-16,\n",
       "         6.18755837e-01, -7.71737653e-16,  1.42782401e-16,\n",
       "        -1.66843585e-01,  4.94166361e-01, -3.33066907e-16,\n",
       "         3.36102488e-01],\n",
       "       [-2.39495027e-01,  5.78289629e-02, -2.21949084e-16,\n",
       "        -6.22442062e-01, -2.79427385e-16,  3.59879014e-17,\n",
       "        -6.75969509e-01,  1.47653585e-01, -2.49800181e-16,\n",
       "         2.70420900e-01],\n",
       "       [-2.34014282e-01,  8.81639953e-02,  1.59287303e-16,\n",
       "         3.85746995e-02, -1.83569058e-16,  1.13919263e-16,\n",
       "        -1.78125825e-01,  8.66267878e-02, -7.07106781e-01,\n",
       "        -6.29875709e-01]])"
      ]
     },
     "execution_count": 7,
     "metadata": {},
     "output_type": "execute_result"
    }
   ],
   "source": [
    "U"
   ]
  },
  {
   "cell_type": "code",
   "execution_count": 8,
   "metadata": {},
   "outputs": [
    {
     "data": {
      "text/plain": [
       "array([2.54060116, 2.25786273, 1.47590652, 1.22546857, 1.02961942,\n",
       "       1.02961942, 0.74982888, 0.4015184 , 0.21720882, 0.16895163])"
      ]
     },
     "execution_count": 8,
     "metadata": {},
     "output_type": "execute_result"
    }
   ],
   "source": [
    "s"
   ]
  },
  {
   "cell_type": "code",
   "execution_count": 9,
   "metadata": {},
   "outputs": [
    {
     "data": {
      "text/plain": [
       "array([[-2.34014282e-01, -2.55873044e-01, -3.06915873e-01,\n",
       "        -3.06915873e-01, -3.06915873e-01, -4.11678445e-01,\n",
       "        -4.11678445e-01, -3.82224287e-01, -2.39495027e-01,\n",
       "        -2.34014282e-01],\n",
       "       [ 8.81639953e-02, -2.27756064e-01, -4.40847155e-01,\n",
       "        -4.40847155e-01, -4.40847155e-01,  3.60662454e-01,\n",
       "         3.60662454e-01,  2.93332152e-01,  5.78289629e-02,\n",
       "         8.81639953e-02],\n",
       "       [-0.00000000e+00, -2.66810445e-16, -8.51114383e-16,\n",
       "         2.06787094e-15, -1.06289498e-15,  7.07106781e-01,\n",
       "        -7.07106781e-01, -2.47407257e-16,  3.81253421e-16,\n",
       "         2.40149459e-16],\n",
       "       [-3.85746995e-02, -3.84244514e-01,  5.34261276e-02,\n",
       "         5.34261276e-02,  5.34261276e-02,  1.87782026e-01,\n",
       "         1.87782026e-01, -6.18755837e-01,  6.22442062e-01,\n",
       "        -3.85746995e-02],\n",
       "       [-0.00000000e+00, -5.22024392e-16,  3.66575734e-01,\n",
       "         4.48548087e-01, -8.15123822e-01, -5.96205833e-16,\n",
       "         7.63817372e-16,  7.62908607e-17, -2.28548761e-16,\n",
       "        -3.36481653e-17],\n",
       "       [-0.00000000e+00,  1.07463065e-17,  7.29581317e-01,\n",
       "        -6.82254557e-01, -4.73267601e-02,  5.59385703e-16,\n",
       "        -1.38350459e-15, -2.33266844e-17,  1.01549789e-15,\n",
       "         5.78465201e-17],\n",
       "       [-1.78125825e-01, -4.06581012e-01,  1.57354764e-01,\n",
       "         1.57354764e-01,  1.57354764e-01,  3.25715471e-01,\n",
       "         3.25715471e-01, -1.66843585e-01, -6.75969509e-01,\n",
       "        -1.78125825e-01],\n",
       "       [-8.66267878e-02,  7.48295619e-01, -1.29139940e-01,\n",
       "        -1.29139940e-01, -1.29139940e-01,  2.33465115e-01,\n",
       "         2.33465115e-01, -4.94166361e-01, -1.47653585e-01,\n",
       "        -8.66267878e-02],\n",
       "       [-7.07106781e-01,  1.11022302e-16, -3.12250226e-17,\n",
       "        -2.08166817e-17,  9.36750677e-17, -4.16333634e-17,\n",
       "         2.08166817e-16,  3.60822483e-16,  4.09394740e-16,\n",
       "         7.07106781e-01],\n",
       "       [ 6.29875709e-01, -9.87818872e-02, -2.23107273e-02,\n",
       "        -2.23107273e-02, -2.23107273e-02, -6.77114112e-02,\n",
       "        -6.77114112e-02, -3.36102488e-01, -2.70420900e-01,\n",
       "         6.29875709e-01]])"
      ]
     },
     "execution_count": 9,
     "metadata": {},
     "output_type": "execute_result"
    }
   ],
   "source": [
    "Vh"
   ]
  },
  {
   "cell_type": "code",
   "execution_count": 10,
   "metadata": {},
   "outputs": [
    {
     "data": {
      "image/png": "[encoded data removed]",
      "text/plain": [
       "<Figure size 432x288 with 1 Axes>"
      ]
     },
     "metadata": {
      "needs_background": "light"
     },
     "output_type": "display_data"
    }
   ],
   "source": [
    "import matplotlib.pyplot as plt\n",
    "words=[\"I\",\"like\",\"natural\",\"language\",\"processing\",\"love\",\"deep\",\"learning\",\"machine\",\".\"]\n",
    "for i in range(len(words)):\n",
    "    plt.text(U[i,0],U[i,1],words[i])\n",
    "plt.xlim(-0.6,0)\n",
    "plt.ylim(-0.5,0.6)\n",
    "plt.show()"
   ]
  }
 ],
 "metadata": {
  "kernelspec": {
   "display_name": "base",
   "language": "python",
   "name": "python3"
  },
  "language_info": {
   "codemirror_mode": {
    "name": "ipython",
    "version": 3
   },
   "file_extension": ".py",
   "mimetype": "text/x-python",
   "name": "python",
   "nbconvert_exporter": "python",
   "pygments_lexer": "ipython3",
   "version": "3.9.12 (main, Apr  4 2022, 05:22:27) [MSC v.1916 64 bit (AMD64)]"
  },
  "orig_nbformat": 4,
  "vscode": {
   "interpreter": {
    "hash": "49cb93f377a7abe7414b7b0f21fb3017538004a126cf690fb524202736b7fb92"
   }
  }
 },
 "nbformat": 4,
 "nbformat_minor": 2
}
