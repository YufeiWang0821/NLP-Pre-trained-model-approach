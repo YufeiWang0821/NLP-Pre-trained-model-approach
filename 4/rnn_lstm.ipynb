{
 "cells": [
  {
   "attachments": {},
   "cell_type": "markdown",
   "metadata": {},
   "source": [
    "4.3.3 实现RNN和LSTM"
   ]
  },
  {
   "attachments": {},
   "cell_type": "markdown",
   "metadata": {},
   "source": [
    "RNN"
   ]
  },
  {
   "cell_type": "code",
   "execution_count": 1,
   "metadata": {},
   "outputs": [
    {
     "data": {
      "text/plain": [
       "tensor([[[0.9366, 0.8945, 0.9704, 0.0050],\n",
       "         [0.7525, 0.5104, 0.1873, 0.6400],\n",
       "         [0.6770, 0.8196, 0.8537, 0.6706]],\n",
       "\n",
       "        [[0.0231, 0.7028, 0.2934, 0.8803],\n",
       "         [0.4096, 0.9832, 0.0287, 0.2672],\n",
       "         [0.0784, 0.7825, 0.7534, 0.9239]]])"
      ]
     },
     "execution_count": 1,
     "metadata": {},
     "output_type": "execute_result"
    }
   ],
   "source": [
    "import torch\n",
    "from torch.nn import RNN\n",
    "rnn=RNN(input_size=4,hidden_size=5,batch_first=True) #输入大小4，隐含层大小5\n",
    "# bidirectional=True则初始化双向，num_layers则是stack层数\n",
    "inputs=torch.rand(2,3,4) #2批，长度3，输入大小4\n",
    "inputs"
   ]
  },
  {
   "cell_type": "code",
   "execution_count": 2,
   "metadata": {},
   "outputs": [],
   "source": [
    "outputs,hn=rnn(inputs) #分别为输出序列的隐藏层和最后一个时刻的隐含层"
   ]
  },
  {
   "cell_type": "code",
   "execution_count": 3,
   "metadata": {},
   "outputs": [
    {
     "data": {
      "text/plain": [
       "tensor([[[-0.3566,  0.5323, -0.3385, -0.7976, -0.6363],\n",
       "         [-0.3614,  0.2002, -0.5836, -0.5627, -0.8362],\n",
       "         [-0.5973,  0.0879, -0.7541, -0.6465, -0.8398]],\n",
       "\n",
       "        [[-0.1021, -0.0315, -0.2058, -0.3538, -0.7843],\n",
       "         [-0.1939, -0.0235, -0.3721, -0.4428, -0.7386],\n",
       "         [-0.4825, -0.2174, -0.6149, -0.4230, -0.8527]]],\n",
       "       grad_fn=<TransposeBackward1>)"
      ]
     },
     "execution_count": 3,
     "metadata": {},
     "output_type": "execute_result"
    }
   ],
   "source": [
    "outputs"
   ]
  },
  {
   "cell_type": "code",
   "execution_count": 4,
   "metadata": {},
   "outputs": [
    {
     "data": {
      "text/plain": [
       "tensor([[[-0.5973,  0.0879, -0.7541, -0.6465, -0.8398],\n",
       "         [-0.4825, -0.2174, -0.6149, -0.4230, -0.8527]]],\n",
       "       grad_fn=<StackBackward0>)"
      ]
     },
     "execution_count": 4,
     "metadata": {},
     "output_type": "execute_result"
    }
   ],
   "source": [
    "hn #可以看出和outputs的最后一列相同"
   ]
  },
  {
   "cell_type": "code",
   "execution_count": 5,
   "metadata": {},
   "outputs": [
    {
     "data": {
      "text/plain": [
       "(torch.Size([2, 3, 5]), torch.Size([1, 2, 5]))"
      ]
     },
     "execution_count": 5,
     "metadata": {},
     "output_type": "execute_result"
    }
   ],
   "source": [
    "outputs.shape,hn.shape"
   ]
  },
  {
   "attachments": {},
   "cell_type": "markdown",
   "metadata": {},
   "source": [
    "LSTM"
   ]
  },
  {
   "cell_type": "code",
   "execution_count": 6,
   "metadata": {},
   "outputs": [],
   "source": [
    "from torch.nn import LSTM\n",
    "lstm=LSTM(input_size=4,hidden_size=5,batch_first=True) #和RNN一样的初始化"
   ]
  },
  {
   "cell_type": "code",
   "execution_count": 7,
   "metadata": {},
   "outputs": [
    {
     "data": {
      "text/plain": [
       "tensor([[[0.4820, 0.4873, 0.1402, 0.9324],\n",
       "         [0.3015, 0.0758, 0.6001, 0.5374],\n",
       "         [0.8970, 0.4452, 0.1608, 0.9968]],\n",
       "\n",
       "        [[0.9296, 0.4101, 0.0971, 0.3363],\n",
       "         [0.3109, 0.2829, 0.5303, 0.0740],\n",
       "         [0.1923, 0.4175, 0.1027, 0.7582]]])"
      ]
     },
     "execution_count": 7,
     "metadata": {},
     "output_type": "execute_result"
    }
   ],
   "source": [
    "inputs=torch.rand(2,3,4)\n",
    "inputs"
   ]
  },
  {
   "cell_type": "code",
   "execution_count": 8,
   "metadata": {},
   "outputs": [
    {
     "data": {
      "text/plain": [
       "tensor([[[ 0.0787, -0.2196,  0.1387, -0.0410, -0.0141],\n",
       "         [ 0.0817, -0.2679,  0.1216, -0.0111, -0.0161],\n",
       "         [ 0.1433, -0.2756,  0.1505, -0.0220, -0.0069]],\n",
       "\n",
       "        [[ 0.0708, -0.2007,  0.0925, -0.0261,  0.0157],\n",
       "         [ 0.0881, -0.2450,  0.0953,  0.0057, -0.0011],\n",
       "         [ 0.1298, -0.2915,  0.1719, -0.0189, -0.0424]]],\n",
       "       grad_fn=<TransposeBackward0>)"
      ]
     },
     "execution_count": 8,
     "metadata": {},
     "output_type": "execute_result"
    }
   ],
   "source": [
    "outputs,(hn,cn)=lstm(inputs) #cn是最后一个时刻的记忆细胞\n",
    "outputs"
   ]
  },
  {
   "cell_type": "code",
   "execution_count": 9,
   "metadata": {},
   "outputs": [
    {
     "data": {
      "text/plain": [
       "tensor([[[ 0.1433, -0.2756,  0.1505, -0.0220, -0.0069],\n",
       "         [ 0.1298, -0.2915,  0.1719, -0.0189, -0.0424]]],\n",
       "       grad_fn=<StackBackward0>)"
      ]
     },
     "execution_count": 9,
     "metadata": {},
     "output_type": "execute_result"
    }
   ],
   "source": [
    "hn"
   ]
  },
  {
   "cell_type": "code",
   "execution_count": 10,
   "metadata": {},
   "outputs": [
    {
     "data": {
      "text/plain": [
       "tensor([[[ 0.3455, -0.5903,  0.3513, -0.0590, -0.0128],\n",
       "         [ 0.2717, -0.5986,  0.4071, -0.0417, -0.0783]]],\n",
       "       grad_fn=<StackBackward0>)"
      ]
     },
     "execution_count": 10,
     "metadata": {},
     "output_type": "execute_result"
    }
   ],
   "source": [
    "cn"
   ]
  },
  {
   "cell_type": "code",
   "execution_count": 11,
   "metadata": {},
   "outputs": [
    {
     "data": {
      "text/plain": [
       "(torch.Size([2, 3, 5]), torch.Size([1, 2, 5]), torch.Size([1, 2, 5]))"
      ]
     },
     "execution_count": 11,
     "metadata": {},
     "output_type": "execute_result"
    }
   ],
   "source": [
    "outputs.shape,hn.shape,cn.shape"
   ]
  }
 ],
 "metadata": {
  "kernelspec": {
   "display_name": "base",
   "language": "python",
   "name": "python3"
  },
  "language_info": {
   "codemirror_mode": {
    "name": "ipython",
    "version": 3
   },
   "file_extension": ".py",
   "mimetype": "text/x-python",
   "name": "python",
   "nbconvert_exporter": "python",
   "pygments_lexer": "ipython3",
   "version": "3.9.12"
  },
  "orig_nbformat": 4,
  "vscode": {
   "interpreter": {
    "hash": "49cb93f377a7abe7414b7b0f21fb3017538004a126cf690fb524202736b7fb92"
   }
  }
 },
 "nbformat": 4,
 "nbformat_minor": 2
}
