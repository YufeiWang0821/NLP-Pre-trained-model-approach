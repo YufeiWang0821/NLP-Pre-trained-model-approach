{
 "cells": [
  {
   "attachments": {},
   "cell_type": "markdown",
   "metadata": {},
   "source": [
    "4.1.6\n",
    "实现多层感知机神经网络模型"
   ]
  },
  {
   "cell_type": "code",
   "execution_count": null,
   "metadata": {},
   "outputs": [],
   "source": [
    "import torch\n",
    "from torch import nn \n",
    "from torch.nn import functional as F"
   ]
  },
  {
   "cell_type": "code",
   "execution_count": 14,
   "metadata": {},
   "outputs": [],
   "source": [
    "class MLP(nn.Module): #从torch.nn中的Module派生的子类\n",
    "    def __init__(self,input_dim,hidden_dim,num_class):\n",
    "        super(MLP,self).__init__()\n",
    "        self.linear1=nn.Linear(input_dim,hidden_dim)\n",
    "        self.activate=torch.relu\n",
    "        self.linear2=nn.Linear(hidden_dim,num_class)\n",
    "    \n",
    "    def forward(self,inputs): #实现模块的前向过程，对输入逐层处理得出最后输出\n",
    "        hidden=self.linear1(inputs)\n",
    "        activation=self.activate(hidden)\n",
    "        outputs=self.linear2(activation)\n",
    "        probs=torch.softmax(outputs,dim=1) #输入属于某一类别的概率\n",
    "        return probs"
   ]
  },
  {
   "cell_type": "code",
   "execution_count": 15,
   "metadata": {},
   "outputs": [
    {
     "data": {
      "text/plain": [
       "tensor([[0.1978, 0.7629, 0.8823, 0.4335],\n",
       "        [0.7479, 0.5514, 0.4603, 0.5970],\n",
       "        [0.6085, 0.6696, 0.1364, 0.4659]])"
      ]
     },
     "execution_count": 15,
     "metadata": {},
     "output_type": "execute_result"
    }
   ],
   "source": [
    "mlp=MLP(input_dim=4,hidden_dim=5,num_class=2)\n",
    "inputs=torch.rand(3,4)\n",
    "inputs"
   ]
  },
  {
   "cell_type": "code",
   "execution_count": 16,
   "metadata": {},
   "outputs": [
    {
     "data": {
      "text/plain": [
       "tensor([[0.4684, 0.5316],\n",
       "        [0.4759, 0.5241],\n",
       "        [0.4659, 0.5341]], grad_fn=<SoftmaxBackward0>)"
      ]
     },
     "execution_count": 16,
     "metadata": {},
     "output_type": "execute_result"
    }
   ],
   "source": [
    "probs=mlp(inputs)\n",
    "probs"
   ]
  }
 ],
 "metadata": {
  "kernelspec": {
   "display_name": "base",
   "language": "python",
   "name": "python3"
  },
  "language_info": {
   "codemirror_mode": {
    "name": "ipython",
    "version": 3
   },
   "file_extension": ".py",
   "mimetype": "text/x-python",
   "name": "python",
   "nbconvert_exporter": "python",
   "pygments_lexer": "ipython3",
   "version": "3.9.12"
  },
  "orig_nbformat": 4,
  "vscode": {
   "interpreter": {
    "hash": "49cb93f377a7abe7414b7b0f21fb3017538004a126cf690fb524202736b7fb92"
   }
  }
 },
 "nbformat": 4,
 "nbformat_minor": 2
}
