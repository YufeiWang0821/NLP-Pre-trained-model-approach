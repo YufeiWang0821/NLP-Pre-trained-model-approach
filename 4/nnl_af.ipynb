{
 "cells": [
  {
   "attachments": {},
   "cell_type": "markdown",
   "metadata": {},
   "source": [
    "4.1.6\n",
    "神经网络层与激活函数"
   ]
  },
  {
   "cell_type": "code",
   "execution_count": null,
   "metadata": {},
   "outputs": [],
   "source": [
    "from torch import nn\n",
    "import torch"
   ]
  },
  {
   "cell_type": "code",
   "execution_count": 29,
   "metadata": {},
   "outputs": [
    {
     "data": {
      "text/plain": [
       "tensor([[0.8454, 0.3116, 0.9160, 0.7936, 0.4502, 0.1390, 0.0972, 0.5597, 0.2489,\n",
       "         0.9632, 0.7003, 0.6131, 0.2299, 0.7602, 0.3017, 0.1266, 0.5868, 0.2228,\n",
       "         0.8794, 0.5717, 0.2941, 0.5084, 0.2585, 0.1881, 0.0127, 0.6593, 0.3606,\n",
       "         0.2122, 0.2889, 0.3609, 0.9648, 0.3536],\n",
       "        [0.6923, 0.8554, 0.1719, 0.7974, 0.9085, 0.7637, 0.2359, 0.6711, 0.9579,\n",
       "         0.5160, 0.5125, 0.5077, 0.0547, 0.2646, 0.0904, 0.4559, 0.7669, 0.4525,\n",
       "         0.5282, 0.2755, 0.4344, 0.3136, 0.6322, 0.3736, 0.6795, 0.3039, 0.1020,\n",
       "         0.6441, 0.4467, 0.3572, 0.3543, 0.7774],\n",
       "        [0.5881, 0.5107, 0.9686, 0.7560, 0.0406, 0.5363, 0.1559, 0.2181, 0.7524,\n",
       "         0.7864, 0.1197, 0.8306, 0.2586, 0.9103, 0.0250, 0.9540, 0.7068, 0.0791,\n",
       "         0.0907, 0.6072, 0.4568, 0.4819, 0.7063, 0.2817, 0.9549, 0.6388, 0.2193,\n",
       "         0.7466, 0.1769, 0.0062, 0.1358, 0.1814]])"
      ]
     },
     "execution_count": 29,
     "metadata": {},
     "output_type": "execute_result"
    }
   ],
   "source": [
    "linear=nn.Linear(32,2) #input32, output2\n",
    "inputs=torch.rand(3,32) #create a random tensor, shape(3,32) 3batches\n",
    "inputs"
   ]
  },
  {
   "cell_type": "code",
   "execution_count": 30,
   "metadata": {},
   "outputs": [
    {
     "data": {
      "text/plain": [
       "tensor([[0.2178, 0.1807],\n",
       "        [0.1891, 0.0074],\n",
       "        [0.6259, 0.0358]], grad_fn=<AddmmBackward0>)"
      ]
     },
     "execution_count": 30,
     "metadata": {},
     "output_type": "execute_result"
    }
   ],
   "source": [
    "outputs=linear(inputs)\n",
    "outputs"
   ]
  },
  {
   "cell_type": "code",
   "execution_count": 31,
   "metadata": {},
   "outputs": [
    {
     "data": {
      "text/plain": [
       "tensor([[0.5542, 0.5451],\n",
       "        [0.5471, 0.5019],\n",
       "        [0.6516, 0.5090]], grad_fn=<SigmoidBackward0>)"
      ]
     },
     "execution_count": 31,
     "metadata": {},
     "output_type": "execute_result"
    }
   ],
   "source": [
    "from torch.nn import functional as F\n",
    "activation=torch.sigmoid(outputs)\n",
    "activation"
   ]
  },
  {
   "cell_type": "code",
   "execution_count": 32,
   "metadata": {},
   "outputs": [
    {
     "data": {
      "text/plain": [
       "tensor([[0.5093, 0.4907],\n",
       "        [0.5453, 0.4547],\n",
       "        [0.6434, 0.3566]], grad_fn=<SoftmaxBackward0>)"
      ]
     },
     "execution_count": 32,
     "metadata": {},
     "output_type": "execute_result"
    }
   ],
   "source": [
    "activation=torch.softmax(outputs,dim=1) #沿着第2维，即对每批分别softmax\n",
    "activation"
   ]
  },
  {
   "cell_type": "code",
   "execution_count": 33,
   "metadata": {},
   "outputs": [
    {
     "data": {
      "text/plain": [
       "tensor([[0.2178, 0.1807],\n",
       "        [0.1891, 0.0074],\n",
       "        [0.6259, 0.0358]], grad_fn=<ReluBackward0>)"
      ]
     },
     "execution_count": 33,
     "metadata": {},
     "output_type": "execute_result"
    }
   ],
   "source": [
    "activation=torch.relu(outputs)\n",
    "activation"
   ]
  }
 ],
 "metadata": {
  "kernelspec": {
   "display_name": "base",
   "language": "python",
   "name": "python3"
  },
  "language_info": {
   "codemirror_mode": {
    "name": "ipython",
    "version": 3
   },
   "file_extension": ".py",
   "mimetype": "text/x-python",
   "name": "python",
   "nbconvert_exporter": "python",
   "pygments_lexer": "ipython3",
   "version": "3.9.12"
  },
  "orig_nbformat": 4,
  "vscode": {
   "interpreter": {
    "hash": "49cb93f377a7abe7414b7b0f21fb3017538004a126cf690fb524202736b7fb92"
   }
  }
 },
 "nbformat": 4,
 "nbformat_minor": 2
}
