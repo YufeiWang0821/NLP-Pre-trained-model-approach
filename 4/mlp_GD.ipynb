{
 "cells": [
  {
   "attachments": {},
   "cell_type": "markdown",
   "metadata": {},
   "source": [
    "4.5.2\n",
    "MLP使用梯度下降法优化参数"
   ]
  },
  {
   "cell_type": "code",
   "execution_count": 1,
   "metadata": {},
   "outputs": [],
   "source": [
    "import torch\n",
    "from torch import nn,optim\n",
    "from torch.nn import functional as F"
   ]
  },
  {
   "cell_type": "code",
   "execution_count": 2,
   "metadata": {},
   "outputs": [],
   "source": [
    "class MLP(nn.Module): #从torch.nn中的Module派生的子类\n",
    "    def __init__(self,input_dim,hidden_dim,num_class):\n",
    "        super(MLP,self).__init__()\n",
    "        self.linear1=nn.Linear(input_dim,hidden_dim)\n",
    "        self.activate=torch.relu\n",
    "        self.linear2=nn.Linear(hidden_dim,num_class)\n",
    "    \n",
    "    def forward(self,inputs): #实现模块的前向过程，对输入逐层处理得出最后输出\n",
    "        hidden=self.linear1(inputs)\n",
    "        activation=self.activate(hidden)\n",
    "        outputs=self.linear2(activation)\n",
    "        log_probs=F.log_softmax(outputs,dim=1) #输入属于某一类别的概率\n",
    "        return log_probs"
   ]
  },
  {
   "cell_type": "code",
   "execution_count": 3,
   "metadata": {},
   "outputs": [],
   "source": [
    "x_train = torch.tensor([[0.0, 0.0], [0.0, 1.0], [1.0, 0.0], [1.0, 1.0]])\n",
    "y_train = torch.tensor([0, 1, 1, 0]) #输入对应的输出类别\n",
    "model = MLP(input_dim=2, hidden_dim=5, num_class=2) #输入层大小2，隐含层大小5，输出层大小2\n",
    "criterion = nn.NLLLoss() #log_softmax输出使用负对数似然损失\n",
    "optimizer = optim.SGD(model.parameters(), lr=0.05)"
   ]
  },
  {
   "cell_type": "code",
   "execution_count": 4,
   "metadata": {},
   "outputs": [],
   "source": [
    "for epoch in range(100):\n",
    "    y_pred = model(x_train)\n",
    "    loss = criterion(y_pred, y_train)\n",
    "    optimizer.zero_grad()\n",
    "    loss.backward()\n",
    "    optimizer.step()"
   ]
  },
  {
   "cell_type": "code",
   "execution_count": 5,
   "metadata": {},
   "outputs": [
    {
     "name": "stdout",
     "output_type": "stream",
     "text": [
      "Parameters:\n",
      "linear1.weight tensor([[-0.3472, -0.5510],\n",
      "        [ 0.2299, -0.3649],\n",
      "        [-0.4998, -0.5871],\n",
      "        [ 0.1435,  0.5125],\n",
      "        [ 0.6054, -0.6866]])\n",
      "linear1.bias tensor([ 0.5305,  0.1312, -0.6182,  0.7120, -0.6018])\n",
      "linear2.weight tensor([[ 0.4107, -0.5377, -0.4240, -0.3004,  0.0535],\n",
      "        [-0.1339,  0.0675, -0.0777, -0.0392, -0.0562]])\n",
      "linear2.bias tensor([ 0.2146, -0.0459])\n"
     ]
    }
   ],
   "source": [
    "print(\"Parameters:\")\n",
    "for name, param in model.named_parameters():\n",
    "    print (name, param.data)"
   ]
  },
  {
   "cell_type": "code",
   "execution_count": 6,
   "metadata": {},
   "outputs": [
    {
     "name": "stdout",
     "output_type": "stream",
     "text": [
      "Predicted results: tensor([0, 1, 1, 1])\n"
     ]
    }
   ],
   "source": [
    "y_pred = model(x_train)\n",
    "print(\"Predicted results:\", y_pred.argmax(axis=1))"
   ]
  }
 ],
 "metadata": {
  "kernelspec": {
   "display_name": "base",
   "language": "python",
   "name": "python3"
  },
  "language_info": {
   "codemirror_mode": {
    "name": "ipython",
    "version": 3
   },
   "file_extension": ".py",
   "mimetype": "text/x-python",
   "name": "python",
   "nbconvert_exporter": "python",
   "pygments_lexer": "ipython3",
   "version": "3.9.12"
  },
  "orig_nbformat": 4,
  "vscode": {
   "interpreter": {
    "hash": "49cb93f377a7abe7414b7b0f21fb3017538004a126cf690fb524202736b7fb92"
   }
  }
 },
 "nbformat": 4,
 "nbformat_minor": 2
}
