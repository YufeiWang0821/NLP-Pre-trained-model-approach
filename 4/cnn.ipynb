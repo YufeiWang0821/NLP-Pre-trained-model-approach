{
 "cells": [
  {
   "attachments": {},
   "cell_type": "markdown",
   "metadata": {},
   "source": [
    "4.2.2\n",
    "实现CNN"
   ]
  },
  {
   "cell_type": "code",
   "execution_count": 1,
   "metadata": {},
   "outputs": [],
   "source": [
    "import torch\n",
    "from torch.nn import Conv1d #表示一维卷积，适用于自然语言\n",
    "#Cov2d和Cov3d表示二维和三维卷积"
   ]
  },
  {
   "cell_type": "code",
   "execution_count": 2,
   "metadata": {},
   "outputs": [],
   "source": [
    "conv1=Conv1d(5,2,4) #一维卷积，输入通道5，输出通道2，卷积核宽度4\n",
    "conv2=Conv1d(5,2,3) #一维卷积，输入通道5，输出通道2，卷积核宽度3\n",
    "inputs=torch.rand(2,5,6) #输入批次2即两个序列，每个序列输入维度5，长度为6"
   ]
  },
  {
   "cell_type": "code",
   "execution_count": 8,
   "metadata": {},
   "outputs": [
    {
     "data": {
      "text/plain": [
       "tensor([[[0.0230, 0.8468, 0.2994, 0.3425, 0.8425, 0.7550],\n",
       "         [0.9124, 0.5812, 0.5492, 0.8224, 0.8393, 0.1501],\n",
       "         [0.6326, 0.6055, 0.3070, 0.6559, 0.3498, 0.9794],\n",
       "         [0.5572, 0.4400, 0.1227, 0.1021, 0.8734, 0.2615],\n",
       "         [0.1450, 0.6261, 0.0460, 0.2124, 0.6859, 0.8547]],\n",
       "\n",
       "        [[0.0374, 0.3931, 0.5073, 0.0149, 0.1785, 0.3768],\n",
       "         [0.3318, 0.7702, 0.6960, 0.8896, 0.0904, 0.0399],\n",
       "         [0.9909, 0.8062, 0.3611, 0.5985, 0.2865, 0.5712],\n",
       "         [0.1049, 0.0157, 0.0320, 0.6258, 0.3582, 0.2579],\n",
       "         [0.4836, 0.6940, 0.1712, 0.8985, 0.4501, 0.2094]]])"
      ]
     },
     "execution_count": 8,
     "metadata": {},
     "output_type": "execute_result"
    }
   ],
   "source": [
    "inputs"
   ]
  },
  {
   "cell_type": "code",
   "execution_count": 9,
   "metadata": {},
   "outputs": [],
   "source": [
    "outputs1=conv1(inputs)\n",
    "outputs2=conv2(inputs)"
   ]
  },
  {
   "cell_type": "code",
   "execution_count": 4,
   "metadata": {},
   "outputs": [
    {
     "name": "stdout",
     "output_type": "stream",
     "text": [
      "tensor([[[-0.3946, -0.4624, -0.4250],\n",
      "         [-0.5367, -0.5206, -0.5997]],\n",
      "\n",
      "        [[-0.3284, -0.6317, -0.5092],\n",
      "         [-0.6662, -0.6216, -0.4186]]], grad_fn=<ConvolutionBackward0>)\n"
     ]
    }
   ],
   "source": [
    "print(outputs1)"
   ]
  },
  {
   "cell_type": "code",
   "execution_count": 5,
   "metadata": {},
   "outputs": [
    {
     "name": "stdout",
     "output_type": "stream",
     "text": [
      "tensor([[[-0.0520,  0.0743,  0.3065, -0.1350],\n",
      "         [ 0.0278, -0.3540, -0.2838, -0.5484]],\n",
      "\n",
      "        [[ 0.0988,  0.0384, -0.0265,  0.0216],\n",
      "         [-0.5463, -0.4574, -0.6286, -0.2142]]],\n",
      "       grad_fn=<ConvolutionBackward0>)\n"
     ]
    }
   ],
   "source": [
    "print(outputs2)"
   ]
  },
  {
   "cell_type": "code",
   "execution_count": 10,
   "metadata": {},
   "outputs": [],
   "source": [
    "from torch.nn import MaxPool1d #一维最大池化，由结果看出最大池化即保留输入中最大的一个数据，即最重要的特征\n",
    "pool1=MaxPool1d(3) #池化范围，输入的维度3，输出维度1\n",
    "pool2=MaxPool1d(4)"
   ]
  },
  {
   "cell_type": "code",
   "execution_count": 11,
   "metadata": {},
   "outputs": [],
   "source": [
    "outpool1=pool1(outputs1) #定义池化对象\n",
    "outpool2=pool2(outputs2)"
   ]
  },
  {
   "cell_type": "code",
   "execution_count": 12,
   "metadata": {},
   "outputs": [
    {
     "name": "stdout",
     "output_type": "stream",
     "text": [
      "tensor([[[-0.3946],\n",
      "         [-0.5206]],\n",
      "\n",
      "        [[-0.3284],\n",
      "         [-0.4186]]], grad_fn=<SqueezeBackward1>)\n"
     ]
    }
   ],
   "source": [
    "print(outpool1)"
   ]
  },
  {
   "cell_type": "code",
   "execution_count": 13,
   "metadata": {},
   "outputs": [
    {
     "name": "stdout",
     "output_type": "stream",
     "text": [
      "tensor([[[ 0.3065],\n",
      "         [ 0.0278]],\n",
      "\n",
      "        [[ 0.0988],\n",
      "         [-0.2142]]], grad_fn=<SqueezeBackward1>)\n"
     ]
    }
   ],
   "source": [
    "print(outpool2)"
   ]
  },
  {
   "cell_type": "code",
   "execution_count": 14,
   "metadata": {},
   "outputs": [],
   "source": [
    "import torch.nn.functional as F #使用池化函数，不用定义池化对象\n",
    "foutpool1=pool1(outputs1)\n",
    "foutpool2=pool2(outputs2)"
   ]
  },
  {
   "cell_type": "code",
   "execution_count": 15,
   "metadata": {},
   "outputs": [
    {
     "name": "stdout",
     "output_type": "stream",
     "text": [
      "tensor([[[-0.3946],\n",
      "         [-0.5206]],\n",
      "\n",
      "        [[-0.3284],\n",
      "         [-0.4186]]], grad_fn=<SqueezeBackward1>)\n",
      "tensor([[[ 0.3065],\n",
      "         [ 0.0278]],\n",
      "\n",
      "        [[ 0.0988],\n",
      "         [-0.2142]]], grad_fn=<SqueezeBackward1>)\n"
     ]
    }
   ],
   "source": [
    "print(foutpool1)\n",
    "print(foutpool2)"
   ]
  },
  {
   "cell_type": "code",
   "execution_count": 20,
   "metadata": {},
   "outputs": [],
   "source": [
    "outpool1_squeezq=outpool1.squeeze(dim=2) \n",
    "outpool2_squeezq=outpool2.squeeze(dim=2)"
   ]
  },
  {
   "attachments": {},
   "cell_type": "markdown",
   "metadata": {},
   "source": [
    "[squeeze函数具体用法](https://blog.csdn.net/qq_40305043/article/details/107767652)"
   ]
  },
  {
   "cell_type": "code",
   "execution_count": 21,
   "metadata": {},
   "outputs": [
    {
     "data": {
      "text/plain": [
       "tensor([[-0.3946, -0.5206],\n",
       "        [-0.3284, -0.4186]], grad_fn=<SqueezeBackward1>)"
      ]
     },
     "execution_count": 21,
     "metadata": {},
     "output_type": "execute_result"
    }
   ],
   "source": [
    "outpool1_squeezq"
   ]
  },
  {
   "cell_type": "code",
   "execution_count": 22,
   "metadata": {},
   "outputs": [
    {
     "data": {
      "text/plain": [
       "tensor([[ 0.3065,  0.0278],\n",
       "        [ 0.0988, -0.2142]], grad_fn=<SqueezeBackward1>)"
      ]
     },
     "execution_count": 22,
     "metadata": {},
     "output_type": "execute_result"
    }
   ],
   "source": [
    "outpool2_squeezq"
   ]
  },
  {
   "cell_type": "code",
   "execution_count": 23,
   "metadata": {},
   "outputs": [
    {
     "data": {
      "text/plain": [
       "tensor([[-0.3946, -0.5206,  0.3065,  0.0278],\n",
       "        [-0.3284, -0.4186,  0.0988, -0.2142]], grad_fn=<CatBackward0>)"
      ]
     },
     "execution_count": 23,
     "metadata": {},
     "output_type": "execute_result"
    }
   ],
   "source": [
    "outpool=torch.cat([outpool1_squeezq,outpool2_squeezq],dim=1)\n",
    "outpool"
   ]
  },
  {
   "cell_type": "code",
   "execution_count": 25,
   "metadata": {},
   "outputs": [
    {
     "name": "stdout",
     "output_type": "stream",
     "text": [
      "tensor([[-0.6369, -0.1247],\n",
      "        [-0.4835, -0.1214]], grad_fn=<AddmmBackward0>)\n"
     ]
    }
   ],
   "source": [
    "from torch.nn import Linear\n",
    "linear=Linear(4,2)\n",
    "outputs_linear=linear(outpool)\n",
    "print(outputs_linear)"
   ]
  },
  {
   "cell_type": "code",
   "execution_count": 26,
   "metadata": {},
   "outputs": [
    {
     "name": "stdout",
     "output_type": "stream",
     "text": [
      "tensor([[0.1785],\n",
      "        [0.2503]], grad_fn=<AddmmBackward0>)\n"
     ]
    }
   ],
   "source": [
    "linear=Linear(4,1)\n",
    "reoutputs_linear=linear(outpool)\n",
    "print(reoutputs_linear)"
   ]
  }
 ],
 "metadata": {
  "kernelspec": {
   "display_name": "base",
   "language": "python",
   "name": "python3"
  },
  "language_info": {
   "codemirror_mode": {
    "name": "ipython",
    "version": 3
   },
   "file_extension": ".py",
   "mimetype": "text/x-python",
   "name": "python",
   "nbconvert_exporter": "python",
   "pygments_lexer": "ipython3",
   "version": "3.9.12"
  },
  "orig_nbformat": 4,
  "vscode": {
   "interpreter": {
    "hash": "49cb93f377a7abe7414b7b0f21fb3017538004a126cf690fb524202736b7fb92"
   }
  }
 },
 "nbformat": 4,
 "nbformat_minor": 2
}
